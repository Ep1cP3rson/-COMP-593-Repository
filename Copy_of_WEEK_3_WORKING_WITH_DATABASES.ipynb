{
  "nbformat": 4,
  "nbformat_minor": 0,
  "metadata": {
    "colab": {
      "name": "Copy of WEEK 3 WORKING WITH DATABASES",
      "provenance": [],
      "collapsed_sections": [],
      "toc_visible": true,
      "include_colab_link": true
    },
    "kernelspec": {
      "display_name": "Python 3",
      "name": "python3"
    }
  },
  "cells": [
    {
      "cell_type": "markdown",
      "metadata": {
        "id": "view-in-github",
        "colab_type": "text"
      },
      "source": [
        "<a href=\"https://colab.research.google.com/github/Ep1cP3rson/-COMP-593-Repository/blob/main/Copy_of_WEEK_3_WORKING_WITH_DATABASES.ipynb\" target=\"_parent\"><img src=\"https://colab.research.google.com/assets/colab-badge.svg\" alt=\"Open In Colab\"/></a>"
      ]
    },
    {
      "cell_type": "markdown",
      "metadata": {
        "id": "ATrLBWinTKCJ"
      },
      "source": [
        "# LAB 3: WORKING WITH DATABASES\r\n"
      ]
    },
    {
      "cell_type": "markdown",
      "metadata": {
        "id": "bH4FqkVLTWRU"
      },
      "source": [
        "## Introduction\r\n",
        "\r\n",
        "During this lab, we will experiment with using a few different libararies and modules to connect to and interact with an SQLite database. After creating and configuring our testing database, we will populate it with Fake data and run some queries to see what kind of information we can retreive. For context, we will be creating RSSN, the \"Really Simple Social Network\"."
      ]
    },
    {
      "cell_type": "markdown",
      "metadata": {
        "id": "YtugCh8QUPoi"
      },
      "source": [
        "## Creating a SQLite Database\r\n",
        "\r\n",
        "We will be utilizing the `sqlite3` library to create our database file, as it offers the convienience of creating our database file automatically in the event that it cannot find an existing file at the path specified.\r\n",
        "\r\n",
        "**Before you run the below code:**\r\n",
        "On the left of the notebook, select the file folder icon. Then, after you run the code block, you should be able to observe the creation of the database file. If it doesn't appear, try clicking the \"Refresh\" button above the list of folders."
      ]
    },
    {
      "cell_type": "code",
      "metadata": {
        "id": "pzyTkI5PPjib",
        "colab": {
          "base_uri": "https://localhost:8080/"
        },
        "outputId": "7c673da0-7d10-4421-d9a3-f338487a9292"
      },
      "source": [
        "import sqlite3\r\n",
        "\r\n",
        "#When we retreive a Connection object, a new database will be created for us if it doesn't already exist. \r\n",
        "myConnection = sqlite3.connect('social_network.db')\r\n",
        "print(sqlite3.version)"
      ],
      "execution_count": 48,
      "outputs": [
        {
          "output_type": "stream",
          "text": [
            "2.6.0\n"
          ],
          "name": "stdout"
        }
      ]
    },
    {
      "cell_type": "markdown",
      "metadata": {
        "id": "gRxXXt8iVmAp"
      },
      "source": [
        "## Creating a Table\r\n"
      ]
    },
    {
      "cell_type": "markdown",
      "metadata": {
        "id": "plmEQRdNaDMe"
      },
      "source": [
        "We'll use the below code to create a table called `people` within our database. "
      ]
    },
    {
      "cell_type": "code",
      "metadata": {
        "colab": {
          "base_uri": "https://localhost:8080/"
        },
        "id": "uyjSS3cQVwFa",
        "outputId": "4860a029-61b6-4d93-cc99-183e7c218df8"
      },
      "source": [
        "import sqlite3\r\n",
        "\r\n",
        "#Retreive the Connection object\r\n",
        "myConnection = sqlite3.connect('social_network.db')\r\n",
        "\r\n",
        "#Once we have a Connection object, we can generate a Cursor object, and use that to run our SQL Queries\r\n",
        "myCursor = myConnection.cursor()\r\n",
        "\r\n",
        "#Let's define the SQL Query we will use to create our first table:\r\n",
        "createPeopleTable = \"\"\" CREATE TABLE IF NOT EXISTS people (\r\n",
        "                          id integer PRIMARY KEY,\r\n",
        "                          name text NOT NULL,\r\n",
        "                          email text NOT NULL,\r\n",
        "                          address text NOT NULL,\r\n",
        "                          city text NOT NULL,\r\n",
        "                          province text NOT NULL,\r\n",
        "                          country text NOT NULL,\r\n",
        "                          phone text,\r\n",
        "                          bio text,\r\n",
        "                          dob date NOT NULL,\r\n",
        "                          heatmap integer,\r\n",
        "                          created_at datetime NOT NULL,\r\n",
        "                          updated_at datetime NOT NULL,\r\n",
        "                          ipv4 text\r\n",
        "                        );\"\"\"\r\n",
        "\r\n",
        "#Now that we have the string to create our table,\r\n",
        "#Cursor objects have an execute() method which will accept an SQL string and perform the operations described.\r\n",
        "\r\n",
        "myCursor.execute(createPeopleTable)\r\n",
        "\r\n",
        "#We can confirm if our table was created successfully by running the following SQL Query\r\n",
        "#pragma_table_info is an internal SQLite function that will retun information about a table\r\n",
        "#myCursor.execute(\"SELECT group_concat(name, ', ') FROM pragma_table_info('people')\")\r\n",
        "print(myCursor.fetchone())\r\n",
        "\r\n",
        "#We use to the commit() method on the database Connection object to persist our changes\r\n",
        "myConnection.commit()\r\n",
        "\r\n",
        "#It is always a good idea to close a connection when it will no longer be used\r\n",
        "myConnection.close()\r\n"
      ],
      "execution_count": 49,
      "outputs": [
        {
          "output_type": "stream",
          "text": [
            "None\n"
          ],
          "name": "stdout"
        }
      ]
    },
    {
      "cell_type": "markdown",
      "metadata": {
        "id": "5swGTtjga2qo"
      },
      "source": [
        "\r\n",
        "If you received a tuple containing the names of the columns, awesome! We have successfully created our database table.\r\n",
        "```\r\n",
        "('id, name, email, address, city, province, country, phone, bio, created_at, updated_at',)\r\n",
        "```\r\n",
        "\r\n",
        "Run the below code block to add our first entry."
      ]
    },
    {
      "cell_type": "code",
      "metadata": {
        "id": "ZSPqve9na7b8",
        "colab": {
          "base_uri": "https://localhost:8080/"
        },
        "outputId": "e7129b42-f05c-4d7a-a737-55ad49b4406b"
      },
      "source": [
        "import sqlite3\r\n",
        "from pprint import pprint #Outputs data in a slightly easier to read format\r\n",
        "from datetime import datetime #For generating dates and times\r\n",
        "from faker import Faker\r\n",
        "\r\n",
        "fake = Faker([ 'en_CA'])\r\n",
        "#Retreive the Connection object\r\n",
        "myConnection = sqlite3.connect('social_network.db')\r\n",
        "\r\n",
        "#Once we have a Connection object, we can generate a Cursor object, and use that to run our SQL Queries\r\n",
        "myCursor = myConnection.cursor()\r\n",
        "\r\n",
        "#Let's define the SQL Query we will use to create our first entry:\r\n",
        "addPersonQuery = \"\"\"INSERT INTO people (name, \r\n",
        "                      email, \r\n",
        "                      address, \r\n",
        "                      city, \r\n",
        "                      province, \r\n",
        "                      country, \r\n",
        "                      phone, \r\n",
        "                      bio,\r\n",
        "                      dob,\r\n",
        "                      heatmap,\r\n",
        "                      created_at, \r\n",
        "                      updated_at, \r\n",
        "                      ipv4)\r\n",
        "                  VALUES (?, ?, ?, ?, ?, ?, ?, ?, ?, ?, ?, ?, ?);\"\"\"\r\n",
        "\r\n",
        "\"\"\"\r\n",
        "The ?'s are placeholders that we can fill in when we use the execute() method.\r\n",
        "This is really handy for code reuse, as we can pass those values are variables in a tuple\r\n",
        "Instead of hard coding them into the statement.\r\n",
        "\"\"\"\r\n",
        "\r\n",
        "myPerson = (fake.name(), \r\n",
        "            fake.email(), \r\n",
        "            fake.address(), \r\n",
        "            fake.city(), \r\n",
        "            fake.province(), \r\n",
        "            fake.country(), \r\n",
        "            fake.phone_number(), \r\n",
        "            fake.paragraph(nb_sentences=3,ext_word_list=None),\r\n",
        "            fake.date_of_birth(),\r\n",
        "            fake.random_int(min=1500),\r\n",
        "            datetime.now(), \r\n",
        "            datetime.now(),\r\n",
        "            fake.ipv4())\r\n",
        "\r\n",
        "myCursor.execute(addPersonQuery,myPerson)\r\n",
        "\r\n",
        "#We can confirm if our table was created successfully by running the following SQL Query\r\n",
        "#pragma_table_info is an internal SQLite function that will retun information about a table\r\n",
        "myCursor.execute(\"SELECT * FROM people\")\r\n",
        "pprint(myCursor.fetchall())\r\n",
        "\r\n",
        "# If you run this code block a few times, you will see that you only have 1 entry,\r\n",
        "# If you uncomment the below lines and run the block a few more times, you will begin to see multiple entries.\r\n",
        "myConnection.commit()\r\n",
        "myConnection.close()"
      ],
      "execution_count": 54,
      "outputs": [
        {
          "output_type": "stream",
          "text": [
            "[(1,\n",
            "  'David Patterson',\n",
            "  'chouston@rodriguez.com',\n",
            "  '77743 Hunt Ford Suite 543\\nPort Andrew, MB S6H 1A3',\n",
            "  'Morrisport',\n",
            "  'Prince Edward Island',\n",
            "  'Hong Kong',\n",
            "  '1 (835) 899-0392',\n",
            "  'Alias labore doloremque dicta adipisci quas. Mollitia eos quo dicta.',\n",
            "  '1927-10-04',\n",
            "  2196,\n",
            "  '2021-02-17 01:19:01.983752',\n",
            "  '2021-02-17 01:19:01.983753',\n",
            "  '95.178.183.139'),\n",
            " (2,\n",
            "  'Toni Ferguson',\n",
            "  'buckleythomas@yahoo.com',\n",
            "  '933 Matthew Mission\\nPort Melissa, YT B2H 6P2',\n",
            "  'North Michael',\n",
            "  'Prince Edward Island',\n",
            "  'Tuvalu',\n",
            "  '1-607-871-9943',\n",
            "  'Placeat perferendis dolorem fugiat optio hic porro. Pariatur provident '\n",
            "  'architecto deleniti error voluptas ratione. Mollitia at magnam.',\n",
            "  '2000-04-12',\n",
            "  4796,\n",
            "  '2021-02-17 01:19:11.269203',\n",
            "  '2021-02-17 01:19:11.269204',\n",
            "  '63.79.61.161'),\n",
            " (3,\n",
            "  'Sarah Williams',\n",
            "  'sheltonnicole@spencer.info',\n",
            "  '418 Cruz Heights\\nEast Briannaberg, NT B7G3V5',\n",
            "  'Francostad',\n",
            "  'Newfoundland and Labrador',\n",
            "  'Maldives',\n",
            "  '278-147-3650',\n",
            "  'Aut ipsum ex corrupti architecto corrupti aliquid iste. Commodi error cum '\n",
            "  'veritatis nostrum quia delectus. Rerum magnam perspiciatis est minus in '\n",
            "  'atque eaque.',\n",
            "  '1965-09-19',\n",
            "  3243,\n",
            "  '2021-02-17 01:19:19.618998',\n",
            "  '2021-02-17 01:19:19.618999',\n",
            "  '216.145.98.157')]\n"
          ],
          "name": "stdout"
        }
      ]
    },
    {
      "cell_type": "code",
      "metadata": {
        "id": "blL9pzRCgrMP"
      },
      "source": [
        ""
      ],
      "execution_count": null,
      "outputs": []
    },
    {
      "cell_type": "markdown",
      "metadata": {
        "id": "BTZ00Zscgrus"
      },
      "source": [
        "# Lab Submission"
      ]
    },
    {
      "cell_type": "markdown",
      "metadata": {
        "id": "rN93XC6xgvwP"
      },
      "source": [
        "We're going to build our experience with working with Libraries and examining documentation by populating our 'People' table with data provided to us by the `Faker` library. `Faker` is used to generate fake data and is very helpful for the rapid generation of databases for the purposes of testing. Run the two blocks below to install faker and get an idea of what it can do."
      ]
    },
    {
      "cell_type": "code",
      "metadata": {
        "id": "CejUXkoRhPik",
        "colab": {
          "base_uri": "https://localhost:8080/"
        },
        "outputId": "50d5dc11-7403-4339-d6b4-ffa5a142db90"
      },
      "source": [
        "!pip install faker"
      ],
      "execution_count": 4,
      "outputs": [
        {
          "output_type": "stream",
          "text": [
            "Collecting faker\n",
            "\u001b[?25l  Downloading https://files.pythonhosted.org/packages/4e/6a/591bea01ef396a4611b2097af19aa86975ebef06a4bb571a8a25ba36cf9a/Faker-6.1.1-py3-none-any.whl (1.1MB)\n",
            "\u001b[K     |████████████████████████████████| 1.1MB 5.5MB/s \n",
            "\u001b[?25hRequirement already satisfied: text-unidecode==1.3 in /usr/local/lib/python3.6/dist-packages (from faker) (1.3)\n",
            "Requirement already satisfied: python-dateutil>=2.4 in /usr/local/lib/python3.6/dist-packages (from faker) (2.8.1)\n",
            "Requirement already satisfied: six>=1.5 in /usr/local/lib/python3.6/dist-packages (from python-dateutil>=2.4->faker) (1.15.0)\n",
            "Installing collected packages: faker\n",
            "Successfully installed faker-6.1.1\n"
          ],
          "name": "stdout"
        }
      ]
    },
    {
      "cell_type": "code",
      "metadata": {
        "id": "vO2Uhcwrhw8-",
        "colab": {
          "base_uri": "https://localhost:8080/"
        },
        "outputId": "f4970f72-910a-4594-b41e-3e6e7430a7ab"
      },
      "source": [
        "from faker import Faker\r\n",
        "\r\n",
        "fake = Faker([ 'en_CA'])\r\n",
        "print (fake.province())\r\n",
        "\r\n",
        "print(fake.name())"
      ],
      "execution_count": 55,
      "outputs": [
        {
          "output_type": "stream",
          "text": [
            "British Columbia\n",
            "Ronald Baker\n"
          ],
          "name": "stdout"
        }
      ]
    },
    {
      "cell_type": "markdown",
      "metadata": {
        "id": "IsYIsSvRjmiG"
      },
      "source": [
        "Very cool! Faker has tons of `providers` that can all be used to populate fake data. The [list of providers](https://faker.readthedocs.io/en/stable/providers.html) in the Faker documentation will help you fill out the columns for our People table.\r\n",
        "\r\n",
        "The goal of this script is to populate the people table with 1000 entries, with the following constraints:\r\n",
        "\r\n",
        "1. The `heatmap` column must contain a random number between `999` and `2500`\r\n",
        "2. The `created_at` and `updated_at` columns must use the `datetime` object (see examples above) \r\n",
        "2. Use `Faker` to generate all other fields.\r\n",
        "\r\n",
        "*Hint: Each of the methods contained in the provider can be called directly from the base Faker object, for example, one can call the `file_name()` method from `faker.providers.file` by calling `Faker().file_name()`*"
      ]
    },
    {
      "cell_type": "code",
      "metadata": {
        "id": "Yi-fE0uUlor4",
        "colab": {
          "base_uri": "https://localhost:8080/",
          "height": 229
        },
        "outputId": "bec653e1-0b18-4de8-917e-1a6f9776c333"
      },
      "source": [
        "import sqlite3\r\n",
        "from faker import Faker\r\n",
        "from datetime import datetime #For generating dates and times\r\n",
        "import random\r\n",
        "#Don't forget to import the module to generate random numbers!\r\n",
        "\r\n",
        "       \r\n",
        "#Retreive the Connection object\r\n",
        "myConnection = sqlite3.connect('social_network.db')\r\n",
        "myCursor = myConnection.cursor()\r\n",
        "createPeopleTable = \"\"\" CREATE TABLE IF NOT EXISTS people (\r\n",
        "                          id integer PRIMARY KEY,\r\n",
        "                          name text NOT NULL,\r\n",
        "                          email text NOT NULL,\r\n",
        "                          address text NOT NULL,\r\n",
        "                          city text NOT NULL,\r\n",
        "                          province text NOT NULL,\r\n",
        "                          country text NOT NULL,\r\n",
        "                          phone text,\r\n",
        "                          bio text,\r\n",
        "                          dob date NOT NULL,\r\n",
        "                          heatmap integer,\r\n",
        "                          created_at datetime NOT NULL,\r\n",
        "                          updated_at datetime NOT NULL,\r\n",
        "                          ipv4 text\r\n",
        "                        );\"\"\"\r\n",
        "myCursor.execute(createPeopleTable)\r\n",
        "myConnection.commit()\r\n",
        "myCursor.executescript                        \r\n",
        "#Once we have a Connection object, we can generate a Cursor object, and use that to run our SQL Queries\r\n",
        "\r\n",
        "\r\n",
        "#This is the same syntax as the above example:\r\n",
        "addPersonQuery = \"\"\"INSERT INTO people (\r\n",
        "      name ? ,\r\n",
        "      email ? ,\r\n",
        "      address ?,\r\n",
        "      city ? ,\r\n",
        "      province ? ,\r\n",
        "      country ? ,\r\n",
        "      phone ? ,\r\n",
        "      bio ? ,\r\n",
        "      dob ?,\r\n",
        "      heatmap ? ,\r\n",
        "      created_at ? ,\r\n",
        "      updated_at ?,\r\n",
        "      ipv4 ?)\r\n",
        "  VALUES (?, ?, ?, ?, ?, ?, ?, ?, ?, ?, ?, ?, ?);\"\"\"\r\n",
        "\r\n",
        "\r\n",
        "\r\n",
        "#myCursor.execute(addPersonQuery,myPerson)\r\n",
        "myConnection.commit()\r\n",
        "\r\n",
        "myConnection = sqlite3.connect('social_network.db')\r\n",
        "\r\n",
        "fake = Faker(['en_CA'])\r\n",
        "for _ in range(1000):\r\n",
        "  \r\n",
        "  myPerson = (fake.name(), \r\n",
        "            fake.email(), \r\n",
        "            fake.address(), \r\n",
        "            fake.city(), \r\n",
        "            fake.province(), \r\n",
        "            fake.country(), \r\n",
        "            fake.phone_number(), \r\n",
        "            fake.paragraph(nb_sentences=3,ext_word_list=None),\r\n",
        "            fake.date_of_birth(),\r\n",
        "            fake.random_int(min=999,max=2500),\r\n",
        "            datetime.now(), \r\n",
        "            datetime.now(),\r\n",
        "            fake.ipv4())\r\n",
        "\r\n",
        "  myConnection = sqlite3.connect('social_network.db')\r\n",
        "  myCursor.execute(addPersonQuery,myPerson)\r\n",
        "  myConnection.commit()\r\n",
        "  myConnection.close()\r\n",
        "\r\n",
        "\r\n",
        "\r\n",
        "\r\n",
        "\r\n",
        "\r\n",
        "\r\n",
        "\r\n",
        "#Ideally, you will want to create a loop that will iterate 1000 times,\r\n",
        "#Observe the example in the earlier code block showing the parameter tuple `myPerson`\r\n",
        "#You can duplicate that inside your loop and replace those fields with calls to the appropriate faker provider method\r\n",
        "#Execute your statement inside the loop,\r\n",
        "#But, don't forget to commit and close your connection when you have finished!\r\n",
        "\r\n"
      ],
      "execution_count": 197,
      "outputs": [
        {
          "output_type": "error",
          "ename": "OperationalError",
          "evalue": "ignored",
          "traceback": [
            "\u001b[0;31m---------------------------------------------------------------------------\u001b[0m",
            "\u001b[0;31mOperationalError\u001b[0m                          Traceback (most recent call last)",
            "\u001b[0;32m<ipython-input-197-73a4052a4318>\u001b[0m in \u001b[0;36m<module>\u001b[0;34m()\u001b[0m\n\u001b[1;32m     73\u001b[0m \u001b[0;34m\u001b[0m\u001b[0m\n\u001b[1;32m     74\u001b[0m   \u001b[0mmyConnection\u001b[0m \u001b[0;34m=\u001b[0m \u001b[0msqlite3\u001b[0m\u001b[0;34m.\u001b[0m\u001b[0mconnect\u001b[0m\u001b[0;34m(\u001b[0m\u001b[0;34m'social_network.db'\u001b[0m\u001b[0;34m)\u001b[0m\u001b[0;34m\u001b[0m\u001b[0;34m\u001b[0m\u001b[0m\n\u001b[0;32m---> 75\u001b[0;31m   \u001b[0mmyCursor\u001b[0m\u001b[0;34m.\u001b[0m\u001b[0mexecute\u001b[0m\u001b[0;34m(\u001b[0m\u001b[0maddPersonQuery\u001b[0m\u001b[0;34m,\u001b[0m\u001b[0mmyPerson\u001b[0m\u001b[0;34m)\u001b[0m\u001b[0;34m\u001b[0m\u001b[0;34m\u001b[0m\u001b[0m\n\u001b[0m\u001b[1;32m     76\u001b[0m   \u001b[0mmyConnection\u001b[0m\u001b[0;34m.\u001b[0m\u001b[0mcommit\u001b[0m\u001b[0;34m(\u001b[0m\u001b[0;34m)\u001b[0m\u001b[0;34m\u001b[0m\u001b[0;34m\u001b[0m\u001b[0m\n\u001b[1;32m     77\u001b[0m   \u001b[0mmyConnection\u001b[0m\u001b[0;34m.\u001b[0m\u001b[0mclose\u001b[0m\u001b[0;34m(\u001b[0m\u001b[0;34m)\u001b[0m\u001b[0;34m\u001b[0m\u001b[0;34m\u001b[0m\u001b[0m\n",
            "\u001b[0;31mOperationalError\u001b[0m: near \"?\": syntax error"
          ]
        }
      ]
    },
    {
      "cell_type": "markdown",
      "metadata": {
        "id": "mVEgfYArnITl"
      },
      "source": [
        "Finally, the last step,\r\n",
        "Using the code block below, combined with what you have learned above, and the Lecture notes,\r\n",
        "Craft a SQL Query that will return the `name` of no more than `20` `people` with a `heatmap` greater than `1500`"
      ]
    },
    {
      "cell_type": "code",
      "metadata": {
        "id": "oN6wSS9roOP6",
        "colab": {
          "base_uri": "https://localhost:8080/",
          "height": 229
        },
        "outputId": "a7a94d8b-e115-4386-9bfd-df156754a4b7"
      },
      "source": [
        "import sqlite3\r\n",
        "from pprint import pprint\r\n",
        "from datetime import datetime #For generating dates and times\r\n",
        "from faker import Faker\r\n",
        "#Retreive the Connection object\r\n",
        "myConnection = sqlite3.connect('social_network.db')\r\n",
        "myCursor = myConnection.cursor()\r\n",
        "\r\n",
        "  \r\n",
        "#Once we have a Connection object, we can generate a Cursor object, and use that to run our SQL Queries\r\n",
        "\r\n",
        "\r\n",
        "myCursor.execute(\"\"\"SELECT name, heatmap FROM people WHERE heatmap > 1500 LIMIT 20\"\"\")\r\n",
        "\r\n",
        "\r\n",
        "#myCursor.execute( ... )\r\n",
        "myCursor.fetchall()\r\n",
        "pprint(myCursor.fetchall())\r\n",
        "\r\n"
      ],
      "execution_count": 104,
      "outputs": [
        {
          "output_type": "error",
          "ename": "DatabaseError",
          "evalue": "ignored",
          "traceback": [
            "\u001b[0;31m---------------------------------------------------------------------------\u001b[0m",
            "\u001b[0;31mDatabaseError\u001b[0m                             Traceback (most recent call last)",
            "\u001b[0;32m<ipython-input-104-fe064f2934b9>\u001b[0m in \u001b[0;36m<module>\u001b[0;34m()\u001b[0m\n\u001b[1;32m     11\u001b[0m \u001b[0;34m\u001b[0m\u001b[0m\n\u001b[1;32m     12\u001b[0m \u001b[0;34m\u001b[0m\u001b[0m\n\u001b[0;32m---> 13\u001b[0;31m \u001b[0mmyCursor\u001b[0m\u001b[0;34m.\u001b[0m\u001b[0mexecute\u001b[0m\u001b[0;34m(\u001b[0m\u001b[0;34m\"\"\"SELECT name, heatmap FROM people WHERE heatmap > 1500 LIMIT 20\"\"\"\u001b[0m\u001b[0;34m)\u001b[0m\u001b[0;34m\u001b[0m\u001b[0;34m\u001b[0m\u001b[0m\n\u001b[0m\u001b[1;32m     14\u001b[0m \u001b[0;34m\u001b[0m\u001b[0m\n\u001b[1;32m     15\u001b[0m \u001b[0;34m\u001b[0m\u001b[0m\n",
            "\u001b[0;31mDatabaseError\u001b[0m: database disk image is malformed"
          ]
        }
      ]
    },
    {
      "cell_type": "markdown",
      "metadata": {
        "id": "qwNrP7FfpJg2"
      },
      "source": [
        "Your submission will contain, as usual, a link to your completed colab notebook, but in addition to that, you will download a copy of your social_network.db file and upload it to D2L. To download the file, right click it from the Files menu on the left of the Notebook."
      ]
    },
    {
      "cell_type": "code",
      "metadata": {
        "colab": {
          "base_uri": "https://localhost:8080/",
          "height": 229
        },
        "id": "ygyYC5TB-UE2",
        "outputId": "ef41ea45-0a6f-40ca-8a2d-1f1e2c9e60f7"
      },
      "source": [
        "import sqlite3\r\n",
        "from pprint import pprint\r\n",
        "from datetime import datetime #For generating dates and times\r\n",
        "from faker import Faker\r\n",
        "\r\n",
        "myConnection = sqlite3.connect('social_network.db')\r\n",
        "myCursor = myConnection.cursor()\r\n",
        "fake = Faker(['en_CA'])\r\n",
        "#myCursor.execute('CREATE TABLE people( id INTEGER PRIMARY KEY, name 1 ,email 2 , address 3, city 4 , province 5 , country 6 , phone 7 bio 8 , dob 9, heatmap 10 ,created_at 11 , updated_at 12, ipv4 13 '))\r\n",
        "myCursor.execute('''\r\n",
        "      CREATE TABLE people2(\r\n",
        "      id INTEGER PRIMARY KEY,\r\n",
        "      name 1 ,\r\n",
        "      email 2 ,\r\n",
        "      address 3,\r\n",
        "      city 4 ,\r\n",
        "      province 5 ,\r\n",
        "      country 6 ,\r\n",
        "      phone 7 ,\r\n",
        "      bio 8 ,\r\n",
        "      dob 9, heatmap 10 ,\r\n",
        "      created_at 11 ,\r\n",
        "      updated_at 12,\r\n",
        "      ipv4 13\r\n",
        "      ''')\r\n",
        "\r\n",
        "myCursor.execute('''\r\n",
        "      INSERT INTO people2(1, 2, 3, 4, 5, 6, 7, 8, 9, 10, 11, 12, 13)\r\n",
        "      VALUES( ?, ?, ?, ?, ?, ?, ?, ?, ?, ?, ?, ?, ?)''')\r\n",
        "        \r\n",
        "      \r\n",
        "   \r\n",
        "   \r\n",
        "\r\n"
      ],
      "execution_count": 181,
      "outputs": [
        {
          "output_type": "error",
          "ename": "OperationalError",
          "evalue": "ignored",
          "traceback": [
            "\u001b[0;31m---------------------------------------------------------------------------\u001b[0m",
            "\u001b[0;31mOperationalError\u001b[0m                          Traceback (most recent call last)",
            "\u001b[0;32m<ipython-input-181-097edc28ef30>\u001b[0m in \u001b[0;36m<module>\u001b[0;34m()\u001b[0m\n\u001b[1;32m     23\u001b[0m       \u001b[0mupdated_at\u001b[0m \u001b[0;36m12\u001b[0m\u001b[0;34m,\u001b[0m\u001b[0;34m\u001b[0m\u001b[0;34m\u001b[0m\u001b[0m\n\u001b[1;32m     24\u001b[0m       \u001b[0mipv4\u001b[0m \u001b[0;36m13\u001b[0m\u001b[0;34m\u001b[0m\u001b[0;34m\u001b[0m\u001b[0m\n\u001b[0;32m---> 25\u001b[0;31m       ''')\n\u001b[0m\u001b[1;32m     26\u001b[0m \u001b[0;34m\u001b[0m\u001b[0m\n\u001b[1;32m     27\u001b[0m myCursor.execute('''\n",
            "\u001b[0;31mOperationalError\u001b[0m: near \"1\": syntax error"
          ]
        }
      ]
    }
  ]
}